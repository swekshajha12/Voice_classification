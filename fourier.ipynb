{
  "nbformat": 4,
  "nbformat_minor": 0,
  "metadata": {
    "colab": {
      "name": "Untitled14.ipynb",
      "version": "0.3.2",
      "views": {},
      "default_view": {},
      "provenance": []
    },
    "kernelspec": {
      "name": "python3",
      "display_name": "Python 3"
    },
    "accelerator": "GPU"
  },
  "cells": [
    {
      "metadata": {
        "id": "6wQULyqRt3Yi",
        "colab_type": "text"
      },
      "cell_type": "markdown",
      "source": [
        "Getting voice samples"
      ]
    },
    {
      "metadata": {
        "id": "GUojZzJNx29p",
        "colab_type": "code",
        "colab": {
          "autoexec": {
            "startup": false,
            "wait_interval": 0
          },
          "output_extras": [
            {
              "item_id": 2
            }
          ],
          "base_uri": "https://localhost:8080/",
          "height": 235
        },
        "outputId": "b57e1635-4727-4c56-d724-472683510aea",
        "executionInfo": {
          "status": "ok",
          "timestamp": 1522176364481,
          "user_tz": -330,
          "elapsed": 2463,
          "user": {
            "displayName": "swechha jha",
            "photoUrl": "//lh3.googleusercontent.com/-WehbRyuCGTU/AAAAAAAAAAI/AAAAAAAAADE/g77130-78SI/s50-c-k-no/photo.jpg",
            "userId": "102332765844335524214"
          }
        }
      },
      "cell_type": "code",
      "source": [
        "!wget --header=\"Host: doc-0k-ag-docs.googleusercontent.com\" --header=\"User-Agent: Mozilla/5.0 (X11; Linux x86_64) AppleWebKit/537.36 (KHTML, like Gecko) Chrome/65.0.3325.181 Safari/537.36\" --header=\"Accept: text/html,application/xhtml+xml,application/xml;q=0.9,image/webp,image/apng,*/*;q=0.8\" --header=\"Accept-Language: en-GB,en-US;q=0.9,en;q=0.8\" --header=\"Cookie: AUTH_r2t0asaalimv73onfsg3kgh97elv60tu=14411923778109583638|1522173600000|6cmepkphht13vtuidgg5t1v3ntii391h\" --header=\"Connection: keep-alive\" \"https://doc-0k-ag-docs.googleusercontent.com/docs/securesc/6d3hiue5eta4do79hdpjf2l9dju1i0n4/rjv9p2dlihguceqr9hqucd9l6r8ql5m6/1522173600000/14411923778109583638/14411923778109583638/1R2D46lCdT4paNQkzJvM_DsFRDx6izegH?e=download\" -O \"s1voice.wav\" -c"
      ],
      "execution_count": 19,
      "outputs": [
        {
          "output_type": "stream",
          "text": [
            "--2018-03-27 18:46:03--  https://doc-0k-ag-docs.googleusercontent.com/docs/securesc/6d3hiue5eta4do79hdpjf2l9dju1i0n4/rjv9p2dlihguceqr9hqucd9l6r8ql5m6/1522173600000/14411923778109583638/14411923778109583638/1R2D46lCdT4paNQkzJvM_DsFRDx6izegH?e=download\r\n",
            "Resolving doc-0k-ag-docs.googleusercontent.com (doc-0k-ag-docs.googleusercontent.com)... 74.125.141.132, 2607:f8b0:400c:c06::84\r\n",
            "Connecting to doc-0k-ag-docs.googleusercontent.com (doc-0k-ag-docs.googleusercontent.com)|74.125.141.132|:443... connected.\n",
            "HTTP request sent, awaiting response... 200 OK\n",
            "Length: 345678 (338K) [audio/wav]\n",
            "Saving to: ‘s1voice.wav’\n",
            "\n",
            "s1voice.wav         100%[===================>] 337.58K  --.-KB/s    in 0.005s  \n",
            "\n",
            "2018-03-27 18:46:03 (62.8 MB/s) - ‘s1voice.wav’ saved [345678/345678]\n",
            "\n"
          ],
          "name": "stdout"
        }
      ]
    },
    {
      "metadata": {
        "id": "La3JoMQUt2ys",
        "colab_type": "code",
        "colab": {
          "autoexec": {
            "startup": false,
            "wait_interval": 0
          },
          "output_extras": [
            {
              "item_id": 2
            }
          ],
          "base_uri": "https://localhost:8080/",
          "height": 235
        },
        "outputId": "e5c74ae2-705b-45f2-faef-9951fc804f7f",
        "executionInfo": {
          "status": "ok",
          "timestamp": 1522176236022,
          "user_tz": -330,
          "elapsed": 2333,
          "user": {
            "displayName": "swechha jha",
            "photoUrl": "//lh3.googleusercontent.com/-WehbRyuCGTU/AAAAAAAAAAI/AAAAAAAAADE/g77130-78SI/s50-c-k-no/photo.jpg",
            "userId": "102332765844335524214"
          }
        }
      },
      "cell_type": "code",
      "source": [
        "!wget --header=\"Host: doc-10-ag-docs.googleusercontent.com\" --header=\"User-Agent: Mozilla/5.0 (X11; Linux x86_64) AppleWebKit/537.36 (KHTML, like Gecko) Chrome/65.0.3325.181 Safari/537.36\" --header=\"Accept: text/html,application/xhtml+xml,application/xml;q=0.9,image/webp,image/apng,*/*;q=0.8\" --header=\"Accept-Language: en-GB,en-US;q=0.9,en;q=0.8\" --header=\"Cookie: AUTH_r2t0asaalimv73onfsg3kgh97elv60tu_nonce=6a5a04o4oagj0\" --header=\"Connection: keep-alive\" \"https://doc-10-ag-docs.googleusercontent.com/docs/securesc/6d3hiue5eta4do79hdpjf2l9dju1i0n4/fveq755v5jifjfcrukupkc5gfoq94ir6/1522173600000/14411923778109583638/14411923778109583638/1Fy6v9zMugG9eWYhluyDGUtyg8NPRi_fG?e=download&nonce=6a5a04o4oagj0&user=14411923778109583638&hash=1o1iratjs98omf874dddra1me4smtg11\" -O \"svoice.wav\" -c"
      ],
      "execution_count": 9,
      "outputs": [
        {
          "output_type": "stream",
          "text": [
            "--2018-03-27 18:43:55--  https://doc-10-ag-docs.googleusercontent.com/docs/securesc/6d3hiue5eta4do79hdpjf2l9dju1i0n4/fveq755v5jifjfcrukupkc5gfoq94ir6/1522173600000/14411923778109583638/14411923778109583638/1Fy6v9zMugG9eWYhluyDGUtyg8NPRi_fG?e=download&nonce=6a5a04o4oagj0&user=14411923778109583638&hash=1o1iratjs98omf874dddra1me4smtg11\r\n",
            "Resolving doc-10-ag-docs.googleusercontent.com (doc-10-ag-docs.googleusercontent.com)... 74.125.141.132, 2607:f8b0:400c:c06::84\r\n",
            "Connecting to doc-10-ag-docs.googleusercontent.com (doc-10-ag-docs.googleusercontent.com)|74.125.141.132|:443... connected.\n",
            "HTTP request sent, awaiting response... 200 OK\n",
            "Length: 318798 (311K) [audio/x-wav]\n",
            "Saving to: ‘svoice.wav’\n",
            "\n",
            "svoice.wav          100%[===================>] 311.33K  --.-KB/s    in 0.005s  \n",
            "\n",
            "2018-03-27 18:43:55 (62.2 MB/s) - ‘svoice.wav’ saved [318798/318798]\n",
            "\n"
          ],
          "name": "stdout"
        }
      ]
    },
    {
      "metadata": {
        "id": "pBf2yDaSurgJ",
        "colab_type": "code",
        "colab": {
          "autoexec": {
            "startup": false,
            "wait_interval": 0
          },
          "output_extras": [
            {
              "item_id": 2
            }
          ],
          "base_uri": "https://localhost:8080/",
          "height": 163
        },
        "outputId": "ea8c3f5e-4fd7-42cd-a7f3-9b8fdcbc8a25",
        "executionInfo": {
          "status": "ok",
          "timestamp": 1522176239625,
          "user_tz": -330,
          "elapsed": 1948,
          "user": {
            "displayName": "swechha jha",
            "photoUrl": "//lh3.googleusercontent.com/-WehbRyuCGTU/AAAAAAAAAAI/AAAAAAAAADE/g77130-78SI/s50-c-k-no/photo.jpg",
            "userId": "102332765844335524214"
          }
        }
      },
      "cell_type": "code",
      "source": [
        "!wget --header=\"Host: doc-10-ag-docs.googleusercontent.com\" --header=\"User-Agent: Mozilla/5.0 (X11; Linux x86_64) AppleWebKit/537.36 (KHTML, like Gecko) Chrome/65.0.3325.181 Safari/537.36\" --header=\"Accept: text/html,application/xhtml+xml,application/xml;q=0.9,image/webp,image/apng,*/*;q=0.8\" --header=\"Accept-Language: en-GB,en-US;q=0.9,en;q=0.8\" --header=\"Cookie: AUTH_r2t0asaalimv73onfsg3kgh97elv60tu=14411923778109583638|1522173600000|6cmepkphht13vtuidgg5t1v3ntii391h\" --header=\"Connection: keep-alive\" \"https://doc-10-ag-docs.googleusercontent.com/docs/securesc/6d3hiue5eta4do79hdpjf2l9dju1i0n4/mpeknebuu88nkjf5bvg3tfi45a480s9q/1522173600000/14411923778109583638/14411923778109583638/1Cu2ZVmTtMVlNjT-kc45S0qhYFuCe2we8?e=download\" -O \"rvoice.wav\" -c"
      ],
      "execution_count": 10,
      "outputs": [
        {
          "output_type": "stream",
          "text": [
            "--2018-03-27 18:43:59--  https://doc-10-ag-docs.googleusercontent.com/docs/securesc/6d3hiue5eta4do79hdpjf2l9dju1i0n4/mpeknebuu88nkjf5bvg3tfi45a480s9q/1522173600000/14411923778109583638/14411923778109583638/1Cu2ZVmTtMVlNjT-kc45S0qhYFuCe2we8?e=download\r\n",
            "Resolving doc-10-ag-docs.googleusercontent.com (doc-10-ag-docs.googleusercontent.com)... 74.125.141.132, 2607:f8b0:400c:c06::84\r\n",
            "Connecting to doc-10-ag-docs.googleusercontent.com (doc-10-ag-docs.googleusercontent.com)|74.125.141.132|:443... connected.\n",
            "HTTP request sent, awaiting response... 416 Requested range not satisfiable\n",
            "\n",
            "    The file is already fully retrieved; nothing to do.\n",
            "\n"
          ],
          "name": "stdout"
        }
      ]
    },
    {
      "metadata": {
        "id": "nacKHG0NlxyP",
        "colab_type": "code",
        "colab": {
          "autoexec": {
            "startup": false,
            "wait_interval": 0
          }
        }
      },
      "cell_type": "code",
      "source": [
        "import numpy as np\n",
        "import wave\n"
      ],
      "execution_count": 0,
      "outputs": []
    },
    {
      "metadata": {
        "id": "GS6zQwiKmIyD",
        "colab_type": "code",
        "colab": {
          "autoexec": {
            "startup": false,
            "wait_interval": 0
          }
        }
      },
      "cell_type": "code",
      "source": [
        "def PlotWavFile(file):\n",
        "  \n",
        "  spf = wave.open(file,'r')\n",
        "\n",
        "  #Extract Raw Audio from Wav File\n",
        "  signal = spf.readframes(-1)\n",
        "  signal = np.fromstring(signal, 'Int16')\n",
        "  fs = spf.getframerate()\n",
        "\n",
        "  #If Stereo\n",
        "  '''if spf.getnchannels() == 2:\n",
        "    print( 'Just mono files')\n",
        "    sys.exit(0)\n",
        "  '''\n",
        "\n",
        "  Time=np.linspace(0, len(signal)/fs, num=len(signal))\n",
        "\n",
        "  plt.figure(1)\n",
        "  plt.title('Signal Wave...')\n",
        "  plt.plot(Time,signal)\n",
        "  plt.show()\n",
        "def ReturnWav(file):\n",
        "  spf = wave.open(file,'r')\n",
        "\n",
        "  #Extract Raw Audio from Wav File\n",
        "  signal = spf.readframes(-1)\n",
        "  signal = np.fromstring(signal, 'Int16')\n",
        "  return signal  \n",
        "def getEuclideanDistance(voice1,voice2):\n",
        "  Min=min(len(voice1),len(voice2))\n",
        "  return math.sqrt(np.sum((voice1[:Min]-voice2[:Min])**2))\n",
        "def getNormalizedValues(voice):\n",
        "  return (voice-np.mean(voice))/np.std(voice)"
      ],
      "execution_count": 0,
      "outputs": []
    },
    {
      "metadata": {
        "id": "_4Pm6fy8leG8",
        "colab_type": "code",
        "colab": {
          "autoexec": {
            "startup": false,
            "wait_interval": 0
          },
          "output_extras": [
            {
              "item_id": 1
            }
          ],
          "base_uri": "https://localhost:8080/",
          "height": 348
        },
        "outputId": "c3c3358e-360a-45fe-f093-dd0954a1a775",
        "executionInfo": {
          "status": "ok",
          "timestamp": 1522178597046,
          "user_tz": -330,
          "elapsed": 1199,
          "user": {
            "displayName": "swechha jha",
            "photoUrl": "//lh3.googleusercontent.com/-WehbRyuCGTU/AAAAAAAAAAI/AAAAAAAAADE/g77130-78SI/s50-c-k-no/photo.jpg",
            "userId": "102332765844335524214"
          }
        }
      },
      "cell_type": "code",
      "source": [
        "from scipy.fftpack import fft\n",
        "# Number of sample points\n",
        "N = 600\n",
        "# sample spacing\n",
        "T = 1.0 / 800.0\n",
        "x = np.linspace(0.0, N*T, N)\n",
        "y = np.sin(50.0 * 2.0*np.pi*x) + 0.5*np.sin(80.0 * 2.0*np.pi*x)\n",
        "yf = fft(y)\n",
        "xf = np.linspace(0.0, 1.0/(2.0*T), N//2)\n",
        "import matplotlib.pyplot as plt\n",
        "\n",
        "plt.plot(xf, 2.0/N * np.abs(yf[0:N//2]))\n",
        "plt.grid()\n",
        "plt.show()"
      ],
      "execution_count": 23,
      "outputs": [
        {
          "output_type": "display_data",
          "data": {
            "image/png": "[encoded data removed]",
            "text/plain": [
              "<matplotlib.figure.Figure at 0x7f0e5d669fd0>"
            ]
          },
          "metadata": {
            "tags": []
          }
        }
      ]
    },
    {
      "metadata": {
        "id": "fYf0qJs_l_2v",
        "colab_type": "code",
        "colab": {
          "autoexec": {
            "startup": false,
            "wait_interval": 0
          }
        }
      },
      "cell_type": "code",
      "source": [
        "def NewPlot(name):\n",
        "  plt.plot(fft(name))\n",
        "  plt.grid()\n",
        "  plt.show()"
      ],
      "execution_count": 0,
      "outputs": []
    },
    {
      "metadata": {
        "id": "3G6zi-qDyDCW",
        "colab_type": "code",
        "colab": {
          "autoexec": {
            "startup": false,
            "wait_interval": 0
          },
          "output_extras": [
            {
              "item_id": 1
            }
          ],
          "base_uri": "https://localhost:8080/",
          "height": 73
        },
        "outputId": "ac1d2fe4-6776-4939-af5f-6c8372fafa55",
        "executionInfo": {
          "status": "ok",
          "timestamp": 1522176393115,
          "user_tz": -330,
          "elapsed": 952,
          "user": {
            "displayName": "swechha jha",
            "photoUrl": "//lh3.googleusercontent.com/-WehbRyuCGTU/AAAAAAAAAAI/AAAAAAAAADE/g77130-78SI/s50-c-k-no/photo.jpg",
            "userId": "102332765844335524214"
          }
        }
      },
      "cell_type": "code",
      "source": [
        "okgoogle3=ReturnWav(\"s1voice.wav\")"
      ],
      "execution_count": 20,
      "outputs": [
        {
          "output_type": "stream",
          "text": [
            "/usr/local/lib/python3.6/dist-packages/ipykernel_launcher.py:27: DeprecationWarning: Numeric-style type codes are deprecated and will result in an error in the future.\n",
            "/usr/local/lib/python3.6/dist-packages/ipykernel_launcher.py:27: DeprecationWarning: The binary mode of fromstring is deprecated, as it behaves surprisingly on unicode inputs. Use frombuffer instead\n"
          ],
          "name": "stderr"
        }
      ]
    },
    {
      "metadata": {
        "id": "UPV8gKZnmfSP",
        "colab_type": "code",
        "colab": {
          "autoexec": {
            "startup": false,
            "wait_interval": 0
          },
          "output_extras": [
            {
              "item_id": 1
            }
          ],
          "base_uri": "https://localhost:8080/",
          "height": 73
        },
        "outputId": "5a681e57-fbc5-45a2-e28c-48829ee0f03e",
        "executionInfo": {
          "status": "ok",
          "timestamp": 1522176259870,
          "user_tz": -330,
          "elapsed": 868,
          "user": {
            "displayName": "swechha jha",
            "photoUrl": "//lh3.googleusercontent.com/-WehbRyuCGTU/AAAAAAAAAAI/AAAAAAAAADE/g77130-78SI/s50-c-k-no/photo.jpg",
            "userId": "102332765844335524214"
          }
        }
      },
      "cell_type": "code",
      "source": [
        "okgoogle1=ReturnWav(\"svoice.wav\")"
      ],
      "execution_count": 15,
      "outputs": [
        {
          "output_type": "stream",
          "text": [
            "/usr/local/lib/python3.6/dist-packages/ipykernel_launcher.py:27: DeprecationWarning: Numeric-style type codes are deprecated and will result in an error in the future.\n",
            "/usr/local/lib/python3.6/dist-packages/ipykernel_launcher.py:27: DeprecationWarning: The binary mode of fromstring is deprecated, as it behaves surprisingly on unicode inputs. Use frombuffer instead\n"
          ],
          "name": "stderr"
        }
      ]
    },
    {
      "metadata": {
        "id": "UnV7RlpQmj5Z",
        "colab_type": "code",
        "colab": {
          "autoexec": {
            "startup": false,
            "wait_interval": 0
          },
          "output_extras": [
            {
              "item_id": 1
            },
            {
              "item_id": 2
            }
          ],
          "base_uri": "https://localhost:8080/",
          "height": 415
        },
        "outputId": "e73a0864-f6df-4b4e-c39f-9f6dc4502835",
        "executionInfo": {
          "status": "ok",
          "timestamp": 1522176267436,
          "user_tz": -330,
          "elapsed": 1115,
          "user": {
            "displayName": "swechha jha",
            "photoUrl": "//lh3.googleusercontent.com/-WehbRyuCGTU/AAAAAAAAAAI/AAAAAAAAADE/g77130-78SI/s50-c-k-no/photo.jpg",
            "userId": "102332765844335524214"
          }
        }
      },
      "cell_type": "code",
      "source": [
        "NewPlot(okgoogle1)"
      ],
      "execution_count": 16,
      "outputs": [
        {
          "output_type": "stream",
          "text": [
            "/usr/local/lib/python3.6/dist-packages/numpy/core/numeric.py:492: ComplexWarning: Casting complex values to real discards the imaginary part\n",
            "  return array(a, dtype, copy=False, order=order)\n"
          ],
          "name": "stderr"
        },
        {
          "output_type": "display_data",
          "data": {
            "image/png": "[encoded data removed]",
            "text/plain": [
              "<matplotlib.figure.Figure at 0x7f0e5fb11390>"
            ]
          },
          "metadata": {
            "tags": []
          }
        }
      ]
    },
    {
      "metadata": {
        "id": "qt4j_cYoyK_x",
        "colab_type": "code",
        "colab": {
          "autoexec": {
            "startup": false,
            "wait_interval": 0
          },
          "output_extras": [
            {
              "item_id": 1
            },
            {
              "item_id": 2
            }
          ],
          "base_uri": "https://localhost:8080/",
          "height": 415
        },
        "outputId": "2f4dbafa-c8d7-4bf8-979f-91bc39800a1e",
        "executionInfo": {
          "status": "ok",
          "timestamp": 1522176420339,
          "user_tz": -330,
          "elapsed": 977,
          "user": {
            "displayName": "swechha jha",
            "photoUrl": "//lh3.googleusercontent.com/-WehbRyuCGTU/AAAAAAAAAAI/AAAAAAAAADE/g77130-78SI/s50-c-k-no/photo.jpg",
            "userId": "102332765844335524214"
          }
        }
      },
      "cell_type": "code",
      "source": [
        "NewPlot(okgoogle3)"
      ],
      "execution_count": 21,
      "outputs": [
        {
          "output_type": "stream",
          "text": [
            "/usr/local/lib/python3.6/dist-packages/numpy/core/numeric.py:492: ComplexWarning: Casting complex values to real discards the imaginary part\n",
            "  return array(a, dtype, copy=False, order=order)\n"
          ],
          "name": "stderr"
        },
        {
          "output_type": "display_data",
          "data": {
            "image/png": "[encoded data removed]",
            "text/plain": [
              "<matplotlib.figure.Figure at 0x7f0e5d82c668>"
            ]
          },
          "metadata": {
            "tags": []
          }
        }
      ]
    },
    {
      "metadata": {
        "id": "0em8EIjGmmtn",
        "colab_type": "code",
        "colab": {
          "autoexec": {
            "startup": false,
            "wait_interval": 0
          },
          "output_extras": [
            {
              "item_id": 1
            }
          ],
          "base_uri": "https://localhost:8080/",
          "height": 73
        },
        "outputId": "1bb28fb4-2dbb-4ded-ed26-541a1fd2d4d3",
        "executionInfo": {
          "status": "ok",
          "timestamp": 1522176278992,
          "user_tz": -330,
          "elapsed": 852,
          "user": {
            "displayName": "swechha jha",
            "photoUrl": "//lh3.googleusercontent.com/-WehbRyuCGTU/AAAAAAAAAAI/AAAAAAAAADE/g77130-78SI/s50-c-k-no/photo.jpg",
            "userId": "102332765844335524214"
          }
        }
      },
      "cell_type": "code",
      "source": [
        "okgoogle2=ReturnWav(\"rvoice.wav\")"
      ],
      "execution_count": 17,
      "outputs": [
        {
          "output_type": "stream",
          "text": [
            "/usr/local/lib/python3.6/dist-packages/ipykernel_launcher.py:27: DeprecationWarning: Numeric-style type codes are deprecated and will result in an error in the future.\n",
            "/usr/local/lib/python3.6/dist-packages/ipykernel_launcher.py:27: DeprecationWarning: The binary mode of fromstring is deprecated, as it behaves surprisingly on unicode inputs. Use frombuffer instead\n"
          ],
          "name": "stderr"
        }
      ]
    },
    {
      "metadata": {
        "id": "qcXGwUnqmrcO",
        "colab_type": "code",
        "colab": {
          "autoexec": {
            "startup": false,
            "wait_interval": 0
          },
          "output_extras": [
            {
              "item_id": 1
            },
            {
              "item_id": 2
            }
          ],
          "base_uri": "https://localhost:8080/",
          "height": 415
        },
        "outputId": "d19196d4-3675-4995-c35d-7c112cf6005a",
        "executionInfo": {
          "status": "ok",
          "timestamp": 1522176283502,
          "user_tz": -330,
          "elapsed": 966,
          "user": {
            "displayName": "swechha jha",
            "photoUrl": "//lh3.googleusercontent.com/-WehbRyuCGTU/AAAAAAAAAAI/AAAAAAAAADE/g77130-78SI/s50-c-k-no/photo.jpg",
            "userId": "102332765844335524214"
          }
        }
      },
      "cell_type": "code",
      "source": [
        "NewPlot(okgoogle2)"
      ],
      "execution_count": 18,
      "outputs": [
        {
          "output_type": "stream",
          "text": [
            "/usr/local/lib/python3.6/dist-packages/numpy/core/numeric.py:492: ComplexWarning: Casting complex values to real discards the imaginary part\n",
            "  return array(a, dtype, copy=False, order=order)\n"
          ],
          "name": "stderr"
        },
        {
          "output_type": "display_data",
          "data": {
            "image/png": "[encoded data removed]",
            "text/plain": [
              "<matplotlib.figure.Figure at 0x7f0e5f8e37b8>"
            ]
          },
          "metadata": {
            "tags": []
          }
        }
      ]
    },
    {
      "metadata": {
        "id": "QgskVodgmuKa",
        "colab_type": "code",
        "colab": {
          "autoexec": {
            "startup": false,
            "wait_interval": 0
          }
        }
      },
      "cell_type": "code",
      "source": [
        ""
      ],
      "execution_count": 0,
      "outputs": []
    }
  ]
}