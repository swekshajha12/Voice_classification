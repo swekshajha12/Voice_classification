{
  "nbformat": 4,
  "nbformat_minor": 0,
  "metadata": {
    "colab": {
      "name": "PlotYourVoice.ipynb",
      "version": "0.3.2",
      "views": {},
      "default_view": {},
      "provenance": [],
      "collapsed_sections": []
    },
    "kernelspec": {
      "name": "python3",
      "display_name": "Python 3"
    },
    "accelerator": "GPU"
  },
  "cells": [
    {
      "metadata": {
        "id": "vH1P-1lgLkpN",
        "colab_type": "code",
        "colab": {
          "autoexec": {
            "startup": false,
            "wait_interval": 0
          },
          "output_extras": [
            {
              "item_id": 5
            }
          ],
          "base_uri": "https://localhost:8080/",
          "height": 161
        },
        "outputId": "7032134e-ab8a-4e8d-8bb9-b94875150bc1",
        "executionInfo": {
          "status": "ok",
          "timestamp": 1521556414181,
          "user_tz": -330,
          "elapsed": 3566,
          "user": {
            "displayName": "swechha jha",
            "photoUrl": "//lh3.googleusercontent.com/-WehbRyuCGTU/AAAAAAAAAAI/AAAAAAAAADE/g77130-78SI/s50-c-k-no/photo.jpg",
            "userId": "102332765844335524214"
          }
        }
      },
      "cell_type": "code",
      "source": [
        "!pip install python_speech_features"
      ],
      "execution_count": 1,
      "outputs": [
        {
          "output_type": "stream",
          "text": [
            "Collecting python_speech_features\n",
            "  Downloading python_speech_features-0.6.tar.gz\n",
            "Building wheels for collected packages: python-speech-features\n",
            "  Running setup.py bdist_wheel for python-speech-features ... \u001b[?25l-\b \bdone\n",
            "\u001b[?25h  Stored in directory: /content/.cache/pip/wheels/5f/42/b4/d2a1e5bc6c3303b7d98ef88180524ff0fcb6d9fc3f9f66a543\n",
            "Successfully built python-speech-features\n",
            "Installing collected packages: python-speech-features\n",
            "Successfully installed python-speech-features-0.6\n"
          ],
          "name": "stdout"
        }
      ]
    },
    {
      "metadata": {
        "id": "6NDfhbhVCSdO",
        "colab_type": "code",
        "colab": {
          "autoexec": {
            "startup": false,
            "wait_interval": 0
          },
          "output_extras": [
            {
              "item_id": 20
            }
          ],
          "base_uri": "https://localhost:8080/",
          "height": 593
        },
        "outputId": "5d65c6b2-0bf7-4cb5-d74e-d92b94af42fe",
        "executionInfo": {
          "status": "ok",
          "timestamp": 1521556425518,
          "user_tz": -330,
          "elapsed": 11186,
          "user": {
            "displayName": "swechha jha",
            "photoUrl": "//lh3.googleusercontent.com/-WehbRyuCGTU/AAAAAAAAAAI/AAAAAAAAADE/g77130-78SI/s50-c-k-no/photo.jpg",
            "userId": "102332765844335524214"
          }
        }
      },
      "cell_type": "code",
      "source": [
        "!pip install librosa"
      ],
      "execution_count": 2,
      "outputs": [
        {
          "output_type": "stream",
          "text": [
            "Collecting librosa\n",
            "  Downloading librosa-0.6.0.tar.gz (1.5MB)\n",
            "\u001b[K    100% |████████████████████████████████| 1.5MB 846kB/s \n",
            "\u001b[?25hCollecting audioread>=2.0.0 (from librosa)\n",
            "  Downloading audioread-2.1.5.tar.gz\n",
            "Requirement already satisfied: decorator>=3.0.0 in /usr/local/lib/python3.6/dist-packages (from librosa)\n",
            "Collecting joblib>=0.7.0 (from librosa)\n",
            "  Downloading joblib-0.11-py2.py3-none-any.whl (176kB)\n",
            "\u001b[K    100% |████████████████████████████████| 184kB 5.1MB/s \n",
            "\u001b[?25hRequirement already satisfied: numpy>=1.8.0 in /usr/local/lib/python3.6/dist-packages (from librosa)\n",
            "Collecting resampy>=0.2.0 (from librosa)\n",
            "  Downloading resampy-0.2.0.tar.gz (322kB)\n",
            "\u001b[K    100% |████████████████████████████████| 327kB 3.3MB/s \n",
            "\u001b[?25hRequirement already satisfied: scikit-learn!=0.19.0,>=0.14.0 in /usr/local/lib/python3.6/dist-packages (from librosa)\n",
            "Requirement already satisfied: scipy>=0.14.0 in /usr/local/lib/python3.6/dist-packages (from librosa)\n",
            "Requirement already satisfied: six>=1.3 in /usr/local/lib/python3.6/dist-packages (from librosa)\n",
            "Collecting numba>=0.32 (from resampy>=0.2.0->librosa)\n",
            "  Downloading numba-0.37.0-cp36-cp36m-manylinux1_x86_64.whl (1.9MB)\n",
            "\u001b[K    100% |████████████████████████████████| 1.9MB 689kB/s \n",
            "\u001b[?25hCollecting llvmlite>=0.22.0.dev0 (from numba>=0.32->resampy>=0.2.0->librosa)\n",
            "  Downloading llvmlite-0.22.0-cp36-cp36m-manylinux1_x86_64.whl (14.8MB)\n",
            "\u001b[K    100% |████████████████████████████████| 14.8MB 97kB/s \n",
            "\u001b[?25hBuilding wheels for collected packages: librosa, audioread, resampy\n",
            "  Running setup.py bdist_wheel for librosa ... \u001b[?25l-\b \b\\\b \bdone\n",
            "\u001b[?25h  Stored in directory: /content/.cache/pip/wheels/d0/a6/30/ccafa79ab23bc8310b3a2530f26f9fb5eaac87ba558bc4c11c\n",
            "  Running setup.py bdist_wheel for audioread ... \u001b[?25l-\b \bdone\n",
            "\u001b[?25h  Stored in directory: /content/.cache/pip/wheels/47/cc/d8/e1476000d1720a72117ef5c0b1a51388b8567ebfface47ede7\n",
            "  Running setup.py bdist_wheel for resampy ... \u001b[?25l-\b \bdone\n",
            "\u001b[?25h  Stored in directory: /content/.cache/pip/wheels/c6/8e/c0/4c402972789ddf6d2d701468417de19d0cad28bd698a867e2d\n",
            "Successfully built librosa audioread resampy\n",
            "Installing collected packages: audioread, joblib, llvmlite, numba, resampy, librosa\n",
            "Successfully installed audioread-2.1.5 joblib-0.11 librosa-0.6.0 llvmlite-0.22.0 numba-0.37.0 resampy-0.2.0\n"
          ],
          "name": "stdout"
        }
      ]
    },
    {
      "metadata": {
        "id": "csxpzFqcCZ8n",
        "colab_type": "code",
        "colab": {
          "autoexec": {
            "startup": false,
            "wait_interval": 0
          },
          "output_extras": [
            {
              "item_id": 3
            }
          ],
          "base_uri": "https://localhost:8080/",
          "height": 107
        },
        "outputId": "d16c15b5-a2c2-43fb-cca5-a57be836d8f1",
        "executionInfo": {
          "status": "ok",
          "timestamp": 1521556432640,
          "user_tz": -330,
          "elapsed": 2723,
          "user": {
            "displayName": "swechha jha",
            "photoUrl": "//lh3.googleusercontent.com/-WehbRyuCGTU/AAAAAAAAAAI/AAAAAAAAADE/g77130-78SI/s50-c-k-no/photo.jpg",
            "userId": "102332765844335524214"
          }
        }
      },
      "cell_type": "code",
      "source": [
        "!pip install tqdm"
      ],
      "execution_count": 3,
      "outputs": [
        {
          "output_type": "stream",
          "text": [
            "Collecting tqdm\n",
            "  Downloading tqdm-4.19.8-py2.py3-none-any.whl (52kB)\n",
            "\u001b[K    100% |████████████████████████████████| 61kB 2.8MB/s \n",
            "\u001b[?25hInstalling collected packages: tqdm\n",
            "Successfully installed tqdm-4.19.8\n"
          ],
          "name": "stdout"
        }
      ]
    },
    {
      "metadata": {
        "id": "0SIihCqOCdO1",
        "colab_type": "code",
        "colab": {
          "autoexec": {
            "startup": false,
            "wait_interval": 0
          }
        }
      },
      "cell_type": "code",
      "source": [
        "from tqdm import tqdm\n",
        "import wave\n",
        "from pylab import*\n",
        "from scipy.io import wavfile"
      ],
      "execution_count": 0,
      "outputs": []
    },
    {
      "metadata": {
        "id": "yVKv-sgD8byS",
        "colab_type": "code",
        "colab": {
          "autoexec": {
            "startup": false,
            "wait_interval": 0
          },
          "output_extras": [
            {
              "item_id": 2
            }
          ],
          "base_uri": "https://localhost:8080/",
          "height": 235
        },
        "outputId": "ebf0cc45-6f03-4880-fcc1-8f1245c570f0",
        "executionInfo": {
          "status": "ok",
          "timestamp": 1521558376315,
          "user_tz": -330,
          "elapsed": 1667,
          "user": {
            "displayName": "swechha jha",
            "photoUrl": "//lh3.googleusercontent.com/-WehbRyuCGTU/AAAAAAAAAAI/AAAAAAAAADE/g77130-78SI/s50-c-k-no/photo.jpg",
            "userId": "102332765844335524214"
          }
        }
      },
      "cell_type": "code",
      "source": [
        "!wget --header=\"Host: doc-0k-ag-docs.googleusercontent.com\" --header=\"User-Agent: Mozilla/5.0 (X11; Linux x86_64) AppleWebKit/537.36 (KHTML, like Gecko) Chrome/65.0.3325.162 Safari/537.36\" --header=\"Accept: text/html,application/xhtml+xml,application/xml;q=0.9,image/webp,image/apng,*/*;q=0.8\" --header=\"Accept-Language: en-GB,en-US;q=0.9,en;q=0.8\" --header=\"Cookie: AUTH_r2t0asaalimv73onfsg3kgh97elv60tu=14411923778109583638|1521554400000|ufsuqmpgfl87k6gs9strgb6nq3im3vfm\" --header=\"Connection: keep-alive\" \"https://doc-0k-ag-docs.googleusercontent.com/docs/securesc/6d3hiue5eta4do79hdpjf2l9dju1i0n4/n2r3842b6irfo20iikjvchuc8kl0pf4t/1521554400000/14411923778109583638/14411923778109583638/1R2D46lCdT4paNQkzJvM_DsFRDx6izegH?e=download\" -O \"s1voice.wav\" -c"
      ],
      "execution_count": 12,
      "outputs": [
        {
          "output_type": "stream",
          "text": [
            "--2018-03-20 15:06:15--  https://doc-0k-ag-docs.googleusercontent.com/docs/securesc/6d3hiue5eta4do79hdpjf2l9dju1i0n4/n2r3842b6irfo20iikjvchuc8kl0pf4t/1521554400000/14411923778109583638/14411923778109583638/1R2D46lCdT4paNQkzJvM_DsFRDx6izegH?e=download\r\n",
            "Resolving doc-0k-ag-docs.googleusercontent.com (doc-0k-ag-docs.googleusercontent.com)... 74.125.141.132, 2607:f8b0:400c:c06::84\r\n",
            "Connecting to doc-0k-ag-docs.googleusercontent.com (doc-0k-ag-docs.googleusercontent.com)|74.125.141.132|:443... connected.\n",
            "HTTP request sent, awaiting response... 200 OK\n",
            "Length: 345678 (338K) [audio/wav]\n",
            "Saving to: ‘s1voice.wav’\n",
            "\n",
            "s1voice.wav         100%[===================>] 337.58K  --.-KB/s    in 0.003s  \n",
            "\n",
            "2018-03-20 15:06:15 (131 MB/s) - ‘s1voice.wav’ saved [345678/345678]\n",
            "\n"
          ],
          "name": "stdout"
        }
      ]
    },
    {
      "metadata": {
        "id": "WFHGiDiYA8uw",
        "colab_type": "code",
        "colab": {
          "autoexec": {
            "startup": false,
            "wait_interval": 0
          },
          "output_extras": [
            {
              "item_id": 1
            }
          ],
          "base_uri": "https://localhost:8080/",
          "height": 235
        },
        "outputId": "8eb7009f-a193-4969-be40-a3067d84b164",
        "executionInfo": {
          "status": "ok",
          "timestamp": 1521559630961,
          "user_tz": -330,
          "elapsed": 1242,
          "user": {
            "displayName": "swechha jha",
            "photoUrl": "//lh3.googleusercontent.com/-WehbRyuCGTU/AAAAAAAAAAI/AAAAAAAAADE/g77130-78SI/s50-c-k-no/photo.jpg",
            "userId": "102332765844335524214"
          }
        }
      },
      "cell_type": "code",
      "source": [
        "!wget --header=\"Host: xfyvfo9nen-colab.googleusercontent.com\" --header=\"User-Agent: Mozilla/5.0 (X11; Linux x86_64) AppleWebKit/537.36 (KHTML, like Gecko) Chrome/65.0.3325.162 Safari/537.36\" --header=\"Accept: text/html,application/xhtml+xml,application/xml;q=0.9,image/webp,image/apng,*/*;q=0.8\" --header=\"Accept-Language: en-GB,en-US;q=0.9,en;q=0.8\" \"https://xfyvfo9nen-colab.googleusercontent.com/v2/usercontent/b645cdf6ae3e8b14/outputframe.html?vrz=colab_20180315_085319-RC01_189213678\" -O \"WhatsApp Ptt 2018-03-20 at 8.51.37 PM.ogg\" -c"
      ],
      "execution_count": 28,
      "outputs": [
        {
          "output_type": "stream",
          "text": [
            "--2018-03-20 15:27:10--  https://xfyvfo9nen-colab.googleusercontent.com/v2/usercontent/b645cdf6ae3e8b14/outputframe.html?vrz=colab_20180315_085319-RC01_189213678\r\n",
            "Resolving xfyvfo9nen-colab.googleusercontent.com (xfyvfo9nen-colab.googleusercontent.com)... 74.125.141.132, 2607:f8b0:400c:c06::84\r\n",
            "Connecting to xfyvfo9nen-colab.googleusercontent.com (xfyvfo9nen-colab.googleusercontent.com)|74.125.141.132|:443... connected.\n",
            "HTTP request sent, awaiting response... 200 OK\n",
            "Length: unspecified [text/html]\n",
            "Saving to: ‘WhatsApp Ptt 2018-03-20 at 8.51.37 PM.ogg’\n",
            "\n",
            "WhatsApp Ptt 2018-0     [ <=>                ]     469  --.-KB/s    in 0s      \n",
            "\n",
            "2018-03-20 15:27:10 (72.6 MB/s) - ‘WhatsApp Ptt 2018-03-20 at 8.51.37 PM.ogg’ saved [469]\n",
            "\n"
          ],
          "name": "stdout"
        }
      ]
    },
    {
      "metadata": {
        "id": "6Lr-oLz9BoGj",
        "colab_type": "code",
        "colab": {
          "autoexec": {
            "startup": false,
            "wait_interval": 0
          },
          "output_extras": [
            {
              "item_id": 2
            }
          ],
          "base_uri": "https://localhost:8080/",
          "height": 235
        },
        "outputId": "4a5373fa-f7ba-47c7-ca0c-b368661e96bf",
        "executionInfo": {
          "status": "ok",
          "timestamp": 1521559835305,
          "user_tz": -330,
          "elapsed": 1640,
          "user": {
            "displayName": "swechha jha",
            "photoUrl": "//lh3.googleusercontent.com/-WehbRyuCGTU/AAAAAAAAAAI/AAAAAAAAADE/g77130-78SI/s50-c-k-no/photo.jpg",
            "userId": "102332765844335524214"
          }
        }
      },
      "cell_type": "code",
      "source": [
        "!wget --header=\"Host: doc-08-ag-docs.googleusercontent.com\" --header=\"User-Agent: Mozilla/5.0 (X11; Linux x86_64) AppleWebKit/537.36 (KHTML, like Gecko) Chrome/65.0.3325.162 Safari/537.36\" --header=\"Accept: text/html,application/xhtml+xml,application/xml;q=0.9,image/webp,image/apng,*/*;q=0.8\" --header=\"Accept-Language: en-GB,en-US;q=0.9,en;q=0.8\" --header=\"Cookie: AUTH_r2t0asaalimv73onfsg3kgh97elv60tu=14411923778109583638|1521554400000|ufsuqmpgfl87k6gs9strgb6nq3im3vfm\" --header=\"Connection: keep-alive\" \"https://doc-08-ag-docs.googleusercontent.com/docs/securesc/6d3hiue5eta4do79hdpjf2l9dju1i0n4/c3jcviru1ffg45jtgf2i1ffd5v58lej1/1521554400000/14411923778109583638/14411923778109583638/1tfr-PkDW0Jg1yLprkpUR27FZy6w1g3DS?e=download\" -O \"awes.wav\" -c"
      ],
      "execution_count": 29,
      "outputs": [
        {
          "output_type": "stream",
          "text": [
            "--2018-03-20 15:30:34--  https://doc-08-ag-docs.googleusercontent.com/docs/securesc/6d3hiue5eta4do79hdpjf2l9dju1i0n4/c3jcviru1ffg45jtgf2i1ffd5v58lej1/1521554400000/14411923778109583638/14411923778109583638/1tfr-PkDW0Jg1yLprkpUR27FZy6w1g3DS?e=download\r\n",
            "Resolving doc-08-ag-docs.googleusercontent.com (doc-08-ag-docs.googleusercontent.com)... 74.125.141.132, 2607:f8b0:400c:c06::84\r\n",
            "Connecting to doc-08-ag-docs.googleusercontent.com (doc-08-ag-docs.googleusercontent.com)|74.125.141.132|:443... connected.\n",
            "HTTP request sent, awaiting response... 200 OK\n",
            "Length: 330318 (323K) [audio/wav]\n",
            "Saving to: ‘awes.wav’\n",
            "\n",
            "awes.wav            100%[===================>] 322.58K  --.-KB/s    in 0.006s  \n",
            "\n",
            "2018-03-20 15:30:34 (49.5 MB/s) - ‘awes.wav’ saved [330318/330318]\n",
            "\n"
          ],
          "name": "stdout"
        }
      ]
    },
    {
      "metadata": {
        "id": "zEbDeVix8mA0",
        "colab_type": "code",
        "colab": {
          "autoexec": {
            "startup": false,
            "wait_interval": 0
          },
          "output_extras": [
            {
              "item_id": 2
            }
          ],
          "base_uri": "https://localhost:8080/",
          "height": 235
        },
        "outputId": "8dc0f95a-c977-45ed-ac15-7f2b5388455d",
        "executionInfo": {
          "status": "ok",
          "timestamp": 1521558418357,
          "user_tz": -330,
          "elapsed": 1567,
          "user": {
            "displayName": "swechha jha",
            "photoUrl": "//lh3.googleusercontent.com/-WehbRyuCGTU/AAAAAAAAAAI/AAAAAAAAADE/g77130-78SI/s50-c-k-no/photo.jpg",
            "userId": "102332765844335524214"
          }
        }
      },
      "cell_type": "code",
      "source": [
        "!wget --header=\"Host: doc-10-ag-docs.googleusercontent.com\" --header=\"User-Agent: Mozilla/5.0 (X11; Linux x86_64) AppleWebKit/537.36 (KHTML, like Gecko) Chrome/65.0.3325.162 Safari/537.36\" --header=\"Accept: text/html,application/xhtml+xml,application/xml;q=0.9,image/webp,image/apng,*/*;q=0.8\" --header=\"Accept-Language: en-GB,en-US;q=0.9,en;q=0.8\" --header=\"Cookie: AUTH_r2t0asaalimv73onfsg3kgh97elv60tu=14411923778109583638|1521554400000|ufsuqmpgfl87k6gs9strgb6nq3im3vfm\" --header=\"Connection: keep-alive\" \"https://doc-10-ag-docs.googleusercontent.com/docs/securesc/6d3hiue5eta4do79hdpjf2l9dju1i0n4/isb49oup65vgsha988cphol4tbl2ot0s/1521554400000/14411923778109583638/14411923778109583638/1Fy6v9zMugG9eWYhluyDGUtyg8NPRi_fG?e=download\" -O \"svoice.wav\" -c"
      ],
      "execution_count": 13,
      "outputs": [
        {
          "output_type": "stream",
          "text": [
            "--2018-03-20 15:06:57--  https://doc-10-ag-docs.googleusercontent.com/docs/securesc/6d3hiue5eta4do79hdpjf2l9dju1i0n4/isb49oup65vgsha988cphol4tbl2ot0s/1521554400000/14411923778109583638/14411923778109583638/1Fy6v9zMugG9eWYhluyDGUtyg8NPRi_fG?e=download\r\n",
            "Resolving doc-10-ag-docs.googleusercontent.com (doc-10-ag-docs.googleusercontent.com)... 74.125.141.132, 2607:f8b0:400c:c06::84\r\n",
            "Connecting to doc-10-ag-docs.googleusercontent.com (doc-10-ag-docs.googleusercontent.com)|74.125.141.132|:443... connected.\n",
            "HTTP request sent, awaiting response... 200 OK\n",
            "Length: 318798 (311K) [audio/x-wav]\n",
            "Saving to: ‘svoice.wav’\n",
            "\n",
            "svoice.wav          100%[===================>] 311.33K  --.-KB/s    in 0.002s  \n",
            "\n",
            "2018-03-20 15:06:58 (149 MB/s) - ‘svoice.wav’ saved [318798/318798]\n",
            "\n"
          ],
          "name": "stdout"
        }
      ]
    },
    {
      "metadata": {
        "id": "gQaVab18JPxu",
        "colab_type": "code",
        "colab": {
          "autoexec": {
            "startup": false,
            "wait_interval": 0
          },
          "output_extras": [
            {
              "item_id": 1
            }
          ],
          "base_uri": "https://localhost:8080/",
          "height": 215
        },
        "outputId": "0f1f998b-8940-43e3-a45d-9e3d6d0d0931",
        "executionInfo": {
          "status": "ok",
          "timestamp": 1521561710900,
          "user_tz": -330,
          "elapsed": 913,
          "user": {
            "displayName": "swechha jha",
            "photoUrl": "//lh3.googleusercontent.com/-WehbRyuCGTU/AAAAAAAAAAI/AAAAAAAAADE/g77130-78SI/s50-c-k-no/photo.jpg",
            "userId": "102332765844335524214"
          }
        }
      },
      "cell_type": "code",
      "source": [
        "!wget --header=\"Host: tpc.googlesyndication.com\" --header=\"User-Agent: Mozilla/5.0 (X11; Linux x86_64) AppleWebKit/537.36 (KHTML, like Gecko) Chrome/65.0.3325.162 Safari/537.36\" --header=\"Accept: text/html,application/xhtml+xml,application/xml;q=0.9,image/webp,image/apng,*/*;q=0.8\" --header=\"Accept-Language: en-GB,en-US;q=0.9,en;q=0.8\" \"https://tpc.googlesyndication.com/safeframe/1-0-17/html/container.html\" -O \"nikki.wav\" -c"
      ],
      "execution_count": 46,
      "outputs": [
        {
          "output_type": "stream",
          "text": [
            "--2018-03-20 16:01:50--  https://tpc.googlesyndication.com/safeframe/1-0-17/html/container.html\r\n",
            "Resolving tpc.googlesyndication.com (tpc.googlesyndication.com)... 74.125.141.132, 2607:f8b0:400c:c06::84\r\n",
            "Connecting to tpc.googlesyndication.com (tpc.googlesyndication.com)|74.125.141.132|:443... connected.\r\n",
            "HTTP request sent, awaiting response... 200 OK\r\n",
            "Length: unspecified [text/html]\r\n",
            "Saving to: ‘nikki.wav’\r\n",
            "\r\n",
            "\rnikki.wav               [<=>                 ]       0  --.-KB/s               \rnikki.wav               [ <=>                ]   2.81K  --.-KB/s    in 0s      \r\n",
            "\r\n",
            "2018-03-20 16:01:50 (18.6 MB/s) - ‘nikki.wav’ saved [2882]\r\n",
            "\r\n"
          ],
          "name": "stdout"
        }
      ]
    },
    {
      "metadata": {
        "id": "fwZfXPOSF6w9",
        "colab_type": "code",
        "colab": {
          "autoexec": {
            "startup": false,
            "wait_interval": 0
          },
          "output_extras": [
            {
              "item_id": 2
            }
          ],
          "base_uri": "https://localhost:8080/",
          "height": 235
        },
        "outputId": "cc8fd4d7-95d8-4621-9018-222b841c6f2f",
        "executionInfo": {
          "status": "ok",
          "timestamp": 1521560836011,
          "user_tz": -330,
          "elapsed": 1278,
          "user": {
            "displayName": "swechha jha",
            "photoUrl": "//lh3.googleusercontent.com/-WehbRyuCGTU/AAAAAAAAAAI/AAAAAAAAADE/g77130-78SI/s50-c-k-no/photo.jpg",
            "userId": "102332765844335524214"
          }
        }
      },
      "cell_type": "code",
      "source": [
        "!wget --header=\"Host: doc-10-ag-docs.googleusercontent.com\" --header=\"User-Agent: Mozilla/5.0 (X11; Linux x86_64) AppleWebKit/537.36 (KHTML, like Gecko) Chrome/65.0.3325.162 Safari/537.36\" --header=\"Accept: text/html,application/xhtml+xml,application/xml;q=0.9,image/webp,image/apng,*/*;q=0.8\" --header=\"Accept-Language: en-GB,en-US;q=0.9,en;q=0.8\" --header=\"Cookie: AUTH_r2t0asaalimv73onfsg3kgh97elv60tu=14411923778109583638|1521554400000|ufsuqmpgfl87k6gs9strgb6nq3im3vfm\" --header=\"Connection: keep-alive\" \"https://doc-10-ag-docs.googleusercontent.com/docs/securesc/6d3hiue5eta4do79hdpjf2l9dju1i0n4/hparr51k24sk83saknmaq5c3jatd2l0g/1521554400000/14411923778109583638/14411923778109583638/1Cu2ZVmTtMVlNjT-kc45S0qhYFuCe2we8?e=download\" -O \"rvoice.wav\" -c"
      ],
      "execution_count": 38,
      "outputs": [
        {
          "output_type": "stream",
          "text": [
            "--2018-03-20 15:47:15--  https://doc-10-ag-docs.googleusercontent.com/docs/securesc/6d3hiue5eta4do79hdpjf2l9dju1i0n4/hparr51k24sk83saknmaq5c3jatd2l0g/1521554400000/14411923778109583638/14411923778109583638/1Cu2ZVmTtMVlNjT-kc45S0qhYFuCe2we8?e=download\r\n",
            "Resolving doc-10-ag-docs.googleusercontent.com (doc-10-ag-docs.googleusercontent.com)... 74.125.134.132, 2607:f8b0:400c:c06::84\r\n",
            "Connecting to doc-10-ag-docs.googleusercontent.com (doc-10-ag-docs.googleusercontent.com)|74.125.134.132|:443... connected.\n",
            "HTTP request sent, awaiting response... 200 OK\n",
            "Length: 391758 (383K) [audio/x-wav]\n",
            "Saving to: ‘rvoice.wav’\n",
            "\n",
            "rvoice.wav          100%[===================>] 382.58K  --.-KB/s    in 0.002s  \n",
            "\n",
            "2018-03-20 15:47:15 (158 MB/s) - ‘rvoice.wav’ saved [391758/391758]\n",
            "\n"
          ],
          "name": "stdout"
        }
      ]
    },
    {
      "metadata": {
        "id": "XO-pFNecL6Ie",
        "colab_type": "code",
        "colab": {
          "autoexec": {
            "startup": false,
            "wait_interval": 0
          },
          "output_extras": [
            {
              "item_id": 1
            },
            {
              "item_id": 2
            }
          ],
          "base_uri": "https://localhost:8080/",
          "height": 233
        },
        "outputId": "3458442a-7ae7-4085-e453-f091c0bf864c",
        "executionInfo": {
          "status": "ok",
          "timestamp": 1521560846992,
          "user_tz": -330,
          "elapsed": 910,
          "user": {
            "displayName": "swechha jha",
            "photoUrl": "//lh3.googleusercontent.com/-WehbRyuCGTU/AAAAAAAAAAI/AAAAAAAAADE/g77130-78SI/s50-c-k-no/photo.jpg",
            "userId": "102332765844335524214"
          }
        }
      },
      "cell_type": "code",
      "source": [
        "from python_speech_features import mfcc\n",
        "from python_speech_features import logfbank\n",
        "import scipy.io.wavfile as wav\n",
        "\n",
        "(rate,sig) = wav.read(\"rvoice.wav\")\n",
        "mfcc_feat = mfcc(sig,rate)\n",
        "fbank_feat = logfbank(sig,rate)\n",
        "\n",
        "print(fbank_feat[1:3,:])"
      ],
      "execution_count": 39,
      "outputs": [
        {
          "output_type": "stream",
          "text": [
            "WARNING:root:frame length (1200) is greater than FFT size (512), frame will be truncated. Increase NFFT to avoid.\n",
            "WARNING:root:frame length (1200) is greater than FFT size (512), frame will be truncated. Increase NFFT to avoid.\n"
          ],
          "name": "stderr"
        },
        {
          "output_type": "stream",
          "text": [
            "[[ 4.012862    3.75811828  4.84520157  4.20871592  4.42331457  4.22609758\n",
            "   5.92956015  5.32398393  6.11581052  7.11271612  6.66080969  5.8266522\n",
            "   6.17745469  6.5190654   5.05462772  3.54781281  2.84650523  2.59302534\n",
            "   2.14285767  2.25769405  2.18044857  1.72590832  2.0618358   1.81456568\n",
            "   3.09845056  4.57799926]\n",
            " [ 3.30051351  5.65399947  6.40772237  6.42602799  8.22488658 10.42134168\n",
            "  10.21735836 10.13913988  9.73950325 11.82773738 10.32797044 10.28393173\n",
            "   9.18971684  9.05717798  7.40484344  5.40611219  4.30097145  3.89811478\n",
            "   3.76893985  3.54997715  3.62922579  3.69681656  3.43529973  3.28969569\n",
            "   5.35838877  8.19886402]]\n"
          ],
          "name": "stdout"
        }
      ]
    },
    {
      "metadata": {
        "id": "LCQcENSECjTj",
        "colab_type": "code",
        "colab": {
          "autoexec": {
            "startup": false,
            "wait_interval": 0
          }
        }
      },
      "cell_type": "code",
      "source": [
        "def PlotWavFile(file):\n",
        "  \n",
        "  spf = wave.open(file,'r')\n",
        "\n",
        "  #Extract Raw Audio from Wav File\n",
        "  signal = spf.readframes(-1)\n",
        "  signal = np.fromstring(signal, 'Int16')\n",
        "  fs = spf.getframerate()\n",
        "\n",
        "  #If Stereo\n",
        "  if spf.getnchannels() == 2:\n",
        "    print( 'Just mono files')\n",
        "    #sys.exit(0)\n",
        "\n",
        "\n",
        "  Time=np.linspace(0, len(signal)/fs, num=len(signal))\n",
        "\n",
        "  plt.figure(1)\n",
        "  plt.title('Signal Wave...')\n",
        "  plt.plot(Time,signal)\n",
        "  plt.show()\n",
        "def ReturnWav(file):\n",
        "  spf = wave.open(file,'r')\n",
        "\n",
        "  #Extract Raw Audio from Wav File\n",
        "  signal = spf.readframes(-1)\n",
        "  signal = np.fromstring(signal, 'Int16')\n",
        "  return signal  \n",
        "def getEuclideanDistance(voice1,voice2):\n",
        "  Min=min(len(voice1),len(voice2))\n",
        "  return math.sqrt(np.sum((voice1[:Min]-voice2[:Min])**2))\n",
        "def getNormalizedValues(voice):\n",
        "  return (voice-np.mean(voice))/np.std(voice)"
      ],
      "execution_count": 0,
      "outputs": []
    },
    {
      "metadata": {
        "id": "nVFVieorECrx",
        "colab_type": "code",
        "colab": {
          "autoexec": {
            "startup": false,
            "wait_interval": 0
          }
        }
      },
      "cell_type": "code",
      "source": [
        "import matplotlib.pyplot as plt"
      ],
      "execution_count": 0,
      "outputs": []
    },
    {
      "metadata": {
        "id": "I2z-lJrmFYn2",
        "colab_type": "code",
        "colab": {
          "autoexec": {
            "startup": false,
            "wait_interval": 0
          },
          "output_extras": [
            {
              "item_id": 1
            },
            {
              "item_id": 2
            },
            {
              "item_id": 3
            }
          ],
          "base_uri": "https://localhost:8080/",
          "height": 473
        },
        "outputId": "d0111a47-1fb4-4684-ea7a-e2a7b045c0bb",
        "executionInfo": {
          "status": "ok",
          "timestamp": 1521559870553,
          "user_tz": -330,
          "elapsed": 988,
          "user": {
            "displayName": "swechha jha",
            "photoUrl": "//lh3.googleusercontent.com/-WehbRyuCGTU/AAAAAAAAAAI/AAAAAAAAADE/g77130-78SI/s50-c-k-no/photo.jpg",
            "userId": "102332765844335524214"
          }
        }
      },
      "cell_type": "code",
      "source": [
        "PlotWavFile(\"svoice.wav\")"
      ],
      "execution_count": 32,
      "outputs": [
        {
          "output_type": "stream",
          "text": [
            "/usr/local/lib/python3.6/dist-packages/ipykernel_launcher.py:7: DeprecationWarning: Numeric-style type codes are deprecated and will result in an error in the future.\n",
            "  import sys\n",
            "/usr/local/lib/python3.6/dist-packages/ipykernel_launcher.py:7: DeprecationWarning: The binary mode of fromstring is deprecated, as it behaves surprisingly on unicode inputs. Use frombuffer instead\n",
            "  import sys\n"
          ],
          "name": "stderr"
        },
        {
          "output_type": "stream",
          "text": [
            "Just mono files\n"
          ],
          "name": "stdout"
        },
        {
          "output_type": "display_data",
          "data": {
            "image/png": "[encoded data removed]",
            "text/plain": [
              "<matplotlib.figure.Figure at 0x7f0dd7168cc0>"
            ]
          },
          "metadata": {
            "tags": []
          }
        }
      ]
    },
    {
      "metadata": {
        "id": "6-OwvUnmFjKR",
        "colab_type": "code",
        "colab": {
          "autoexec": {
            "startup": false,
            "wait_interval": 0
          },
          "output_extras": [
            {
              "item_id": 1
            }
          ],
          "base_uri": "https://localhost:8080/",
          "height": 676
        },
        "outputId": "9dfd7c14-2f08-4268-b13e-6eb08f484f06",
        "executionInfo": {
          "status": "error",
          "timestamp": 1521561725642,
          "user_tz": -330,
          "elapsed": 879,
          "user": {
            "displayName": "swechha jha",
            "photoUrl": "//lh3.googleusercontent.com/-WehbRyuCGTU/AAAAAAAAAAI/AAAAAAAAADE/g77130-78SI/s50-c-k-no/photo.jpg",
            "userId": "102332765844335524214"
          }
        }
      },
      "cell_type": "code",
      "source": [
        "PlotWavFile(\"nikki.wav\")"
      ],
      "execution_count": 47,
      "outputs": [
        {
          "output_type": "error",
          "ename": "Error",
          "evalue": "ignored",
          "traceback": [
            "\u001b[0;31m---------------------------------------------------------------------------\u001b[0m",
            "\u001b[0;31mError\u001b[0m                                     Traceback (most recent call last)",
            "\u001b[0;32m<ipython-input-47-dfc8fdcebc9c>\u001b[0m in \u001b[0;36m<module>\u001b[0;34m()\u001b[0m\n\u001b[0;32m----> 1\u001b[0;31m \u001b[0mPlotWavFile\u001b[0m\u001b[0;34m(\u001b[0m\u001b[0;34m\"nikki.wav\"\u001b[0m\u001b[0;34m)\u001b[0m\u001b[0;34m\u001b[0m\u001b[0m\n\u001b[0m",
            "\u001b[0;32m<ipython-input-31-0e08e0e18917>\u001b[0m in \u001b[0;36mPlotWavFile\u001b[0;34m(file)\u001b[0m\n\u001b[1;32m      1\u001b[0m \u001b[0;32mdef\u001b[0m \u001b[0mPlotWavFile\u001b[0m\u001b[0;34m(\u001b[0m\u001b[0mfile\u001b[0m\u001b[0;34m)\u001b[0m\u001b[0;34m:\u001b[0m\u001b[0;34m\u001b[0m\u001b[0m\n\u001b[1;32m      2\u001b[0m \u001b[0;34m\u001b[0m\u001b[0m\n\u001b[0;32m----> 3\u001b[0;31m   \u001b[0mspf\u001b[0m \u001b[0;34m=\u001b[0m \u001b[0mwave\u001b[0m\u001b[0;34m.\u001b[0m\u001b[0mopen\u001b[0m\u001b[0;34m(\u001b[0m\u001b[0mfile\u001b[0m\u001b[0;34m,\u001b[0m\u001b[0;34m'r'\u001b[0m\u001b[0;34m)\u001b[0m\u001b[0;34m\u001b[0m\u001b[0m\n\u001b[0m\u001b[1;32m      4\u001b[0m \u001b[0;34m\u001b[0m\u001b[0m\n\u001b[1;32m      5\u001b[0m   \u001b[0;31m#Extract Raw Audio from Wav File\u001b[0m\u001b[0;34m\u001b[0m\u001b[0;34m\u001b[0m\u001b[0m\n",
            "\u001b[0;32m/usr/lib/python3.6/wave.py\u001b[0m in \u001b[0;36mopen\u001b[0;34m(f, mode)\u001b[0m\n\u001b[1;32m    497\u001b[0m             \u001b[0mmode\u001b[0m \u001b[0;34m=\u001b[0m \u001b[0;34m'rb'\u001b[0m\u001b[0;34m\u001b[0m\u001b[0m\n\u001b[1;32m    498\u001b[0m     \u001b[0;32mif\u001b[0m \u001b[0mmode\u001b[0m \u001b[0;32min\u001b[0m \u001b[0;34m(\u001b[0m\u001b[0;34m'r'\u001b[0m\u001b[0;34m,\u001b[0m \u001b[0;34m'rb'\u001b[0m\u001b[0;34m)\u001b[0m\u001b[0;34m:\u001b[0m\u001b[0;34m\u001b[0m\u001b[0m\n\u001b[0;32m--> 499\u001b[0;31m         \u001b[0;32mreturn\u001b[0m \u001b[0mWave_read\u001b[0m\u001b[0;34m(\u001b[0m\u001b[0mf\u001b[0m\u001b[0;34m)\u001b[0m\u001b[0;34m\u001b[0m\u001b[0m\n\u001b[0m\u001b[1;32m    500\u001b[0m     \u001b[0;32melif\u001b[0m \u001b[0mmode\u001b[0m \u001b[0;32min\u001b[0m \u001b[0;34m(\u001b[0m\u001b[0;34m'w'\u001b[0m\u001b[0;34m,\u001b[0m \u001b[0;34m'wb'\u001b[0m\u001b[0;34m)\u001b[0m\u001b[0;34m:\u001b[0m\u001b[0;34m\u001b[0m\u001b[0m\n\u001b[1;32m    501\u001b[0m         \u001b[0;32mreturn\u001b[0m \u001b[0mWave_write\u001b[0m\u001b[0;34m(\u001b[0m\u001b[0mf\u001b[0m\u001b[0;34m)\u001b[0m\u001b[0;34m\u001b[0m\u001b[0m\n",
            "\u001b[0;32m/usr/lib/python3.6/wave.py\u001b[0m in \u001b[0;36m__init__\u001b[0;34m(self, f)\u001b[0m\n\u001b[1;32m    161\u001b[0m         \u001b[0;31m# else, assume it is an open file object already\u001b[0m\u001b[0;34m\u001b[0m\u001b[0;34m\u001b[0m\u001b[0m\n\u001b[1;32m    162\u001b[0m         \u001b[0;32mtry\u001b[0m\u001b[0;34m:\u001b[0m\u001b[0;34m\u001b[0m\u001b[0m\n\u001b[0;32m--> 163\u001b[0;31m             \u001b[0mself\u001b[0m\u001b[0;34m.\u001b[0m\u001b[0minitfp\u001b[0m\u001b[0;34m(\u001b[0m\u001b[0mf\u001b[0m\u001b[0;34m)\u001b[0m\u001b[0;34m\u001b[0m\u001b[0m\n\u001b[0m\u001b[1;32m    164\u001b[0m         \u001b[0;32mexcept\u001b[0m\u001b[0;34m:\u001b[0m\u001b[0;34m\u001b[0m\u001b[0m\n\u001b[1;32m    165\u001b[0m             \u001b[0;32mif\u001b[0m \u001b[0mself\u001b[0m\u001b[0;34m.\u001b[0m\u001b[0m_i_opened_the_file\u001b[0m\u001b[0;34m:\u001b[0m\u001b[0;34m\u001b[0m\u001b[0m\n",
            "\u001b[0;32m/usr/lib/python3.6/wave.py\u001b[0m in \u001b[0;36minitfp\u001b[0;34m(self, file)\u001b[0m\n\u001b[1;32m    128\u001b[0m         \u001b[0mself\u001b[0m\u001b[0;34m.\u001b[0m\u001b[0m_file\u001b[0m \u001b[0;34m=\u001b[0m \u001b[0mChunk\u001b[0m\u001b[0;34m(\u001b[0m\u001b[0mfile\u001b[0m\u001b[0;34m,\u001b[0m \u001b[0mbigendian\u001b[0m \u001b[0;34m=\u001b[0m \u001b[0;36m0\u001b[0m\u001b[0;34m)\u001b[0m\u001b[0;34m\u001b[0m\u001b[0m\n\u001b[1;32m    129\u001b[0m         \u001b[0;32mif\u001b[0m \u001b[0mself\u001b[0m\u001b[0;34m.\u001b[0m\u001b[0m_file\u001b[0m\u001b[0;34m.\u001b[0m\u001b[0mgetname\u001b[0m\u001b[0;34m(\u001b[0m\u001b[0;34m)\u001b[0m \u001b[0;34m!=\u001b[0m \u001b[0;34mb'RIFF'\u001b[0m\u001b[0;34m:\u001b[0m\u001b[0;34m\u001b[0m\u001b[0m\n\u001b[0;32m--> 130\u001b[0;31m             \u001b[0;32mraise\u001b[0m \u001b[0mError\u001b[0m\u001b[0;34m(\u001b[0m\u001b[0;34m'file does not start with RIFF id'\u001b[0m\u001b[0;34m)\u001b[0m\u001b[0;34m\u001b[0m\u001b[0m\n\u001b[0m\u001b[1;32m    131\u001b[0m         \u001b[0;32mif\u001b[0m \u001b[0mself\u001b[0m\u001b[0;34m.\u001b[0m\u001b[0m_file\u001b[0m\u001b[0;34m.\u001b[0m\u001b[0mread\u001b[0m\u001b[0;34m(\u001b[0m\u001b[0;36m4\u001b[0m\u001b[0;34m)\u001b[0m \u001b[0;34m!=\u001b[0m \u001b[0;34mb'WAVE'\u001b[0m\u001b[0;34m:\u001b[0m\u001b[0;34m\u001b[0m\u001b[0m\n\u001b[1;32m    132\u001b[0m             \u001b[0;32mraise\u001b[0m \u001b[0mError\u001b[0m\u001b[0;34m(\u001b[0m\u001b[0;34m'not a WAVE file'\u001b[0m\u001b[0;34m)\u001b[0m\u001b[0;34m\u001b[0m\u001b[0m\n",
            "\u001b[0;31mError\u001b[0m: file does not start with RIFF id"
          ]
        }
      ]
    },
    {
      "metadata": {
        "id": "8d82uKl-O005",
        "colab_type": "code",
        "colab": {
          "autoexec": {
            "startup": false,
            "wait_interval": 0
          },
          "output_extras": [
            {
              "item_id": 1
            }
          ],
          "base_uri": "https://localhost:8080/",
          "height": 73
        },
        "outputId": "94a7199d-c869-4b64-ae4e-98aca1447844",
        "executionInfo": {
          "status": "ok",
          "timestamp": 1521560901411,
          "user_tz": -330,
          "elapsed": 870,
          "user": {
            "displayName": "swechha jha",
            "photoUrl": "//lh3.googleusercontent.com/-WehbRyuCGTU/AAAAAAAAAAI/AAAAAAAAADE/g77130-78SI/s50-c-k-no/photo.jpg",
            "userId": "102332765844335524214"
          }
        }
      },
      "cell_type": "code",
      "source": [
        "ravil=ReturnWav(\"svoice.wav\")\n",
        "sweksha=ReturnWav(\"rvoice.wav\")\n",
        "#kamu2=ReturnWav(\"Recording 20.wav\")"
      ],
      "execution_count": 43,
      "outputs": [
        {
          "output_type": "stream",
          "text": [
            "/usr/local/lib/python3.6/dist-packages/ipykernel_launcher.py:27: DeprecationWarning: Numeric-style type codes are deprecated and will result in an error in the future.\n",
            "/usr/local/lib/python3.6/dist-packages/ipykernel_launcher.py:27: DeprecationWarning: The binary mode of fromstring is deprecated, as it behaves surprisingly on unicode inputs. Use frombuffer instead\n"
          ],
          "name": "stderr"
        }
      ]
    },
    {
      "metadata": {
        "id": "duJCd6i5QQHp",
        "colab_type": "code",
        "colab": {
          "autoexec": {
            "startup": false,
            "wait_interval": 0
          },
          "output_extras": [
            {
              "item_id": 1
            }
          ],
          "base_uri": "https://localhost:8080/",
          "height": 35
        },
        "outputId": "1532a827-8070-419a-ee36-f563f61b6621",
        "executionInfo": {
          "status": "ok",
          "timestamp": 1521560907847,
          "user_tz": -330,
          "elapsed": 877,
          "user": {
            "displayName": "swechha jha",
            "photoUrl": "//lh3.googleusercontent.com/-WehbRyuCGTU/AAAAAAAAAAI/AAAAAAAAADE/g77130-78SI/s50-c-k-no/photo.jpg",
            "userId": "102332765844335524214"
          }
        }
      },
      "cell_type": "code",
      "source": [
        "getEuclideanDistance(ravil,sweksha)"
      ],
      "execution_count": 44,
      "outputs": [
        {
          "output_type": "execute_result",
          "data": {
            "text/plain": [
              "12849.529174253817"
            ]
          },
          "metadata": {
            "tags": []
          },
          "execution_count": 44
        }
      ]
    },
    {
      "metadata": {
        "id": "hUXcGWB3RQw2",
        "colab_type": "code",
        "colab": {
          "autoexec": {
            "startup": false,
            "wait_interval": 0
          },
          "output_extras": [
            {
              "item_id": 1
            }
          ],
          "base_uri": "https://localhost:8080/",
          "height": 35
        },
        "outputId": "70ee76d1-2fa4-467d-bd28-5ba2f9d212f6",
        "executionInfo": {
          "status": "ok",
          "timestamp": 1521560912550,
          "user_tz": -330,
          "elapsed": 874,
          "user": {
            "displayName": "swechha jha",
            "photoUrl": "//lh3.googleusercontent.com/-WehbRyuCGTU/AAAAAAAAAAI/AAAAAAAAADE/g77130-78SI/s50-c-k-no/photo.jpg",
            "userId": "102332765844335524214"
          }
        }
      },
      "cell_type": "code",
      "source": [
        "sweksha=getNormalizedValues(sweksha)\n",
        "ravil=getNormalizedValues(ravil)\n",
        "getEuclideanDistance(ravil,sweksha)"
      ],
      "execution_count": 45,
      "outputs": [
        {
          "output_type": "execute_result",
          "data": {
            "text/plain": [
              "597.0824836491159"
            ]
          },
          "metadata": {
            "tags": []
          },
          "execution_count": 45
        }
      ]
    },
    {
      "metadata": {
        "id": "MsXQ_Cs1R9bR",
        "colab_type": "code",
        "colab": {
          "autoexec": {
            "startup": false,
            "wait_interval": 0
          },
          "output_extras": [
            {
              "item_id": 1
            }
          ],
          "base_uri": "https://localhost:8080/",
          "height": 244
        },
        "outputId": "087e27ba-bc9a-4cec-80e3-aaf4f2eb12ea",
        "executionInfo": {
          "status": "error",
          "timestamp": 1521560758816,
          "user_tz": -330,
          "elapsed": 881,
          "user": {
            "displayName": "swechha jha",
            "photoUrl": "//lh3.googleusercontent.com/-WehbRyuCGTU/AAAAAAAAAAI/AAAAAAAAADE/g77130-78SI/s50-c-k-no/photo.jpg",
            "userId": "102332765844335524214"
          }
        }
      },
      "cell_type": "code",
      "source": [
        "Time=np.linspace(0, len(sweksha)/fs, num=len(sweksha))\n",
        "\n",
        "plt.figure(1)\n",
        "plt.title('Signal Wave...')\n",
        "plt.plot(Time,sweksha)\n",
        "plt.show()"
      ],
      "execution_count": 37,
      "outputs": [
        {
          "output_type": "error",
          "ename": "NameError",
          "evalue": "ignored",
          "traceback": [
            "\u001b[0;31m---------------------------------------------------------------------------\u001b[0m",
            "\u001b[0;31mNameError\u001b[0m                                 Traceback (most recent call last)",
            "\u001b[0;32m<ipython-input-37-ae8fb11a3974>\u001b[0m in \u001b[0;36m<module>\u001b[0;34m()\u001b[0m\n\u001b[0;32m----> 1\u001b[0;31m \u001b[0mTime\u001b[0m\u001b[0;34m=\u001b[0m\u001b[0mnp\u001b[0m\u001b[0;34m.\u001b[0m\u001b[0mlinspace\u001b[0m\u001b[0;34m(\u001b[0m\u001b[0;36m0\u001b[0m\u001b[0;34m,\u001b[0m \u001b[0mlen\u001b[0m\u001b[0;34m(\u001b[0m\u001b[0msweksha\u001b[0m\u001b[0;34m)\u001b[0m\u001b[0;34m/\u001b[0m\u001b[0mfs\u001b[0m\u001b[0;34m,\u001b[0m \u001b[0mnum\u001b[0m\u001b[0;34m=\u001b[0m\u001b[0mlen\u001b[0m\u001b[0;34m(\u001b[0m\u001b[0msweksha\u001b[0m\u001b[0;34m)\u001b[0m\u001b[0;34m)\u001b[0m\u001b[0;34m\u001b[0m\u001b[0m\n\u001b[0m\u001b[1;32m      2\u001b[0m \u001b[0;34m\u001b[0m\u001b[0m\n\u001b[1;32m      3\u001b[0m \u001b[0mplt\u001b[0m\u001b[0;34m.\u001b[0m\u001b[0mfigure\u001b[0m\u001b[0;34m(\u001b[0m\u001b[0;36m1\u001b[0m\u001b[0;34m)\u001b[0m\u001b[0;34m\u001b[0m\u001b[0m\n\u001b[1;32m      4\u001b[0m \u001b[0mplt\u001b[0m\u001b[0;34m.\u001b[0m\u001b[0mtitle\u001b[0m\u001b[0;34m(\u001b[0m\u001b[0;34m'Signal Wave...'\u001b[0m\u001b[0;34m)\u001b[0m\u001b[0;34m\u001b[0m\u001b[0m\n\u001b[1;32m      5\u001b[0m \u001b[0mplt\u001b[0m\u001b[0;34m.\u001b[0m\u001b[0mplot\u001b[0m\u001b[0;34m(\u001b[0m\u001b[0mTime\u001b[0m\u001b[0;34m,\u001b[0m\u001b[0msweksha\u001b[0m\u001b[0;34m)\u001b[0m\u001b[0;34m\u001b[0m\u001b[0m\n",
            "\u001b[0;31mNameError\u001b[0m: name 'fs' is not defined"
          ]
        }
      ]
    },
    {
      "metadata": {
        "id": "61ozshNASSAm",
        "colab_type": "code",
        "colab": {
          "autoexec": {
            "startup": false,
            "wait_interval": 0
          },
          "output_extras": [
            {
              "item_id": 1
            }
          ],
          "base_uri": "https://localhost:8080/",
          "height": 172
        },
        "outputId": "2848e0b9-ede8-4a53-f99e-5bc645ef593d",
        "executionInfo": {
          "status": "error",
          "timestamp": 1521559498455,
          "user_tz": -330,
          "elapsed": 663,
          "user": {
            "displayName": "swechha jha",
            "photoUrl": "//lh3.googleusercontent.com/-WehbRyuCGTU/AAAAAAAAAAI/AAAAAAAAADE/g77130-78SI/s50-c-k-no/photo.jpg",
            "userId": "102332765844335524214"
          }
        }
      },
      "cell_type": "code",
      "source": [
        "kamu2=NormalizeValues(kamu2)"
      ],
      "execution_count": 27,
      "outputs": [
        {
          "output_type": "error",
          "ename": "NameError",
          "evalue": "ignored",
          "traceback": [
            "\u001b[0;31m---------------------------------------------------------------------------\u001b[0m",
            "\u001b[0;31mNameError\u001b[0m                                 Traceback (most recent call last)",
            "\u001b[0;32m<ipython-input-27-0c2679abb856>\u001b[0m in \u001b[0;36m<module>\u001b[0;34m()\u001b[0m\n\u001b[0;32m----> 1\u001b[0;31m \u001b[0mkamu2\u001b[0m\u001b[0;34m=\u001b[0m\u001b[0mNormalizeValues\u001b[0m\u001b[0;34m(\u001b[0m\u001b[0mkamu2\u001b[0m\u001b[0;34m)\u001b[0m\u001b[0;34m\u001b[0m\u001b[0m\n\u001b[0m",
            "\u001b[0;31mNameError\u001b[0m: name 'NormalizeValues' is not defined"
          ]
        }
      ]
    },
    {
      "metadata": {
        "id": "Qq1zmsiVSgmI",
        "colab_type": "code",
        "colab": {
          "autoexec": {
            "startup": false,
            "wait_interval": 0
          },
          "output_extras": [
            {}
          ],
          "base_uri": "https://localhost:8080/",
          "height": 34
        },
        "outputId": "15903c6c-2e1d-4860-c312-bd3d7edcbc5a",
        "executionInfo": {
          "status": "ok",
          "timestamp": 1521396368016,
          "user_tz": -330,
          "elapsed": 728,
          "user": {
            "displayName": "kamran shaik",
            "photoUrl": "//lh6.googleusercontent.com/-vkRdPE-RtuQ/AAAAAAAAAAI/AAAAAAAACE8/bWrheKF5bS4/s50-c-k-no/photo.jpg",
            "userId": "106931843714112403139"
          }
        }
      },
      "cell_type": "code",
      "source": [
        "getEuclideanDistance(kamu,kamu2)"
      ],
      "execution_count": 0,
      "outputs": [
        {
          "output_type": "execute_result",
          "data": {
            "text/plain": [
              "424.98823513127985"
            ]
          },
          "metadata": {
            "tags": []
          },
          "execution_count": 128
        }
      ]
    },
    {
      "metadata": {
        "id": "Z1-H_cPwSj85",
        "colab_type": "code",
        "colab": {
          "autoexec": {
            "startup": false,
            "wait_interval": 0
          }
        }
      },
      "cell_type": "code",
      "source": [
        "nani1=NormalizeValues(nani)"
      ],
      "execution_count": 0,
      "outputs": []
    },
    {
      "metadata": {
        "id": "FUHHo_pFUnlD",
        "colab_type": "code",
        "colab": {
          "autoexec": {
            "startup": false,
            "wait_interval": 0
          },
          "output_extras": [
            {}
          ],
          "base_uri": "https://localhost:8080/",
          "height": 34
        },
        "outputId": "6a85696c-80a4-42f4-db27-2526f87b6b67",
        "executionInfo": {
          "status": "ok",
          "timestamp": 1521396911896,
          "user_tz": -330,
          "elapsed": 697,
          "user": {
            "displayName": "kamran shaik",
            "photoUrl": "//lh6.googleusercontent.com/-vkRdPE-RtuQ/AAAAAAAAAAI/AAAAAAAACE8/bWrheKF5bS4/s50-c-k-no/photo.jpg",
            "userId": "106931843714112403139"
          }
        }
      },
      "cell_type": "code",
      "source": [
        "np.mean(kamu)"
      ],
      "execution_count": 0,
      "outputs": [
        {
          "output_type": "execute_result",
          "data": {
            "text/plain": [
              "3.876852596507353"
            ]
          },
          "metadata": {
            "tags": []
          },
          "execution_count": 141
        }
      ]
    },
    {
      "metadata": {
        "id": "18f5cXGUUou_",
        "colab_type": "code",
        "colab": {
          "autoexec": {
            "startup": false,
            "wait_interval": 0
          }
        }
      },
      "cell_type": "code",
      "source": [
        "Nkamu=NormalizeValues(kamu)"
      ],
      "execution_count": 0,
      "outputs": []
    },
    {
      "metadata": {
        "id": "pLvQ9yi6UqM1",
        "colab_type": "code",
        "colab": {
          "autoexec": {
            "startup": false,
            "wait_interval": 0
          },
          "output_extras": [
            {}
          ],
          "base_uri": "https://localhost:8080/",
          "height": 34
        },
        "outputId": "be897d87-b3a2-4c57-8b17-831a6fc69cb8",
        "executionInfo": {
          "status": "ok",
          "timestamp": 1521396992849,
          "user_tz": -330,
          "elapsed": 789,
          "user": {
            "displayName": "kamran shaik",
            "photoUrl": "//lh6.googleusercontent.com/-vkRdPE-RtuQ/AAAAAAAAAAI/AAAAAAAACE8/bWrheKF5bS4/s50-c-k-no/photo.jpg",
            "userId": "106931843714112403139"
          }
        }
      },
      "cell_type": "code",
      "source": [
        "np.std(kamu)"
      ],
      "execution_count": 0,
      "outputs": [
        {
          "output_type": "execute_result",
          "data": {
            "text/plain": [
              "0.7761565306820775"
            ]
          },
          "metadata": {
            "tags": []
          },
          "execution_count": 147
        }
      ]
    },
    {
      "metadata": {
        "id": "qIDlylHJUzRZ",
        "colab_type": "code",
        "colab": {
          "autoexec": {
            "startup": false,
            "wait_interval": 0
          }
        }
      },
      "cell_type": "code",
      "source": [
        "NNkamu=(kamu-np.mean(kamu))/np.std(kamu)"
      ],
      "execution_count": 0,
      "outputs": []
    },
    {
      "metadata": {
        "id": "vnpH-lnmVArn",
        "colab_type": "code",
        "colab": {
          "autoexec": {
            "startup": false,
            "wait_interval": 0
          },
          "output_extras": [
            {}
          ],
          "base_uri": "https://localhost:8080/",
          "height": 51
        },
        "outputId": "e5bcea99-904e-4e67-9fbb-2bf7627da2d0",
        "executionInfo": {
          "status": "ok",
          "timestamp": 1521397067370,
          "user_tz": -330,
          "elapsed": 701,
          "user": {
            "displayName": "kamran shaik",
            "photoUrl": "//lh6.googleusercontent.com/-vkRdPE-RtuQ/AAAAAAAAAAI/AAAAAAAACE8/bWrheKF5bS4/s50-c-k-no/photo.jpg",
            "userId": "106931843714112403139"
          }
        }
      },
      "cell_type": "code",
      "source": [
        "NNkamu"
      ],
      "execution_count": 0,
      "outputs": [
        {
          "output_type": "execute_result",
          "data": {
            "text/plain": [
              "array([-0.01817918, -0.01817918, -0.01817918, ..., -0.01817918,\n",
              "       -0.01817918, -0.01817918])"
            ]
          },
          "metadata": {
            "tags": []
          },
          "execution_count": 150
        }
      ]
    },
    {
      "metadata": {
        "id": "5bJGD-i_VOsl",
        "colab_type": "code",
        "colab": {
          "autoexec": {
            "startup": false,
            "wait_interval": 0
          },
          "output_extras": [
            {}
          ],
          "base_uri": "https://localhost:8080/",
          "height": 34
        },
        "outputId": "ab51ba0e-f771-44f1-f1ac-5320fbb785a3",
        "executionInfo": {
          "status": "ok",
          "timestamp": 1521397080932,
          "user_tz": -330,
          "elapsed": 803,
          "user": {
            "displayName": "kamran shaik",
            "photoUrl": "//lh6.googleusercontent.com/-vkRdPE-RtuQ/AAAAAAAAAAI/AAAAAAAACE8/bWrheKF5bS4/s50-c-k-no/photo.jpg",
            "userId": "106931843714112403139"
          }
        }
      },
      "cell_type": "code",
      "source": [
        "Nkamu"
      ],
      "execution_count": 0,
      "outputs": [
        {
          "output_type": "execute_result",
          "data": {
            "text/plain": [
              "array([0, 0, 0, ..., 0, 0, 0], dtype=int16)"
            ]
          },
          "metadata": {
            "tags": []
          },
          "execution_count": 153
        }
      ]
    },
    {
      "metadata": {
        "id": "r3EC2L1gVdP1",
        "colab_type": "code",
        "colab": {
          "autoexec": {
            "startup": false,
            "wait_interval": 0
          },
          "output_extras": [
            {}
          ],
          "base_uri": "https://localhost:8080/",
          "height": 34
        },
        "outputId": "08671593-d475-4996-a824-d116e03fbe33",
        "executionInfo": {
          "status": "ok",
          "timestamp": 1521397212281,
          "user_tz": -330,
          "elapsed": 707,
          "user": {
            "displayName": "kamran shaik",
            "photoUrl": "//lh6.googleusercontent.com/-vkRdPE-RtuQ/AAAAAAAAAAI/AAAAAAAACE8/bWrheKF5bS4/s50-c-k-no/photo.jpg",
            "userId": "106931843714112403139"
          }
        }
      },
      "cell_type": "code",
      "source": [
        "getEuclideanDistance(Nnani,NNkamu)"
      ],
      "execution_count": 0,
      "outputs": [
        {
          "output_type": "execute_result",
          "data": {
            "text/plain": [
              "2468224.254560438"
            ]
          },
          "metadata": {
            "tags": []
          },
          "execution_count": 158
        }
      ]
    },
    {
      "metadata": {
        "id": "a-DFOsZGVyEu",
        "colab_type": "code",
        "colab": {
          "autoexec": {
            "startup": false,
            "wait_interval": 0
          }
        }
      },
      "cell_type": "code",
      "source": [
        ""
      ],
      "execution_count": 0,
      "outputs": []
    },
    {
      "metadata": {
        "id": "3tgebHXaWCmV",
        "colab_type": "code",
        "colab": {
          "autoexec": {
            "startup": false,
            "wait_interval": 0
          }
        }
      },
      "cell_type": "code",
      "source": [
        "Nkamu2=getNormalizedValues(kamu2)"
      ],
      "execution_count": 0,
      "outputs": []
    },
    {
      "metadata": {
        "id": "gdwS9lx_WDYp",
        "colab_type": "code",
        "colab": {
          "autoexec": {
            "startup": false,
            "wait_interval": 0
          },
          "output_extras": [
            {}
          ],
          "base_uri": "https://localhost:8080/",
          "height": 34
        },
        "outputId": "aede968a-ef90-4669-d81b-b9e2cec05033",
        "executionInfo": {
          "status": "ok",
          "timestamp": 1521397330450,
          "user_tz": -330,
          "elapsed": 784,
          "user": {
            "displayName": "kamran shaik",
            "photoUrl": "//lh6.googleusercontent.com/-vkRdPE-RtuQ/AAAAAAAAAAI/AAAAAAAACE8/bWrheKF5bS4/s50-c-k-no/photo.jpg",
            "userId": "106931843714112403139"
          }
        }
      },
      "cell_type": "code",
      "source": [
        "getEuclideanDistance(Nkamu2,NNkamu)"
      ],
      "execution_count": 0,
      "outputs": [
        {
          "output_type": "execute_result",
          "data": {
            "text/plain": [
              "525.3235202182655"
            ]
          },
          "metadata": {
            "tags": []
          },
          "execution_count": 163
        }
      ]
    },
    {
      "metadata": {
        "id": "RxnC1G6bWMsM",
        "colab_type": "code",
        "colab": {
          "autoexec": {
            "startup": false,
            "wait_interval": 0
          },
          "output_extras": [
            {}
          ],
          "base_uri": "https://localhost:8080/",
          "height": 34
        },
        "outputId": "6daeba21-42c2-4e89-cb91-91ce23a94caf",
        "executionInfo": {
          "status": "ok",
          "timestamp": 1521397368037,
          "user_tz": -330,
          "elapsed": 720,
          "user": {
            "displayName": "kamran shaik",
            "photoUrl": "//lh6.googleusercontent.com/-vkRdPE-RtuQ/AAAAAAAAAAI/AAAAAAAACE8/bWrheKF5bS4/s50-c-k-no/photo.jpg",
            "userId": "106931843714112403139"
          }
        }
      },
      "cell_type": "code",
      "source": [
        "kamu3"
      ],
      "execution_count": 0,
      "outputs": [
        {
          "output_type": "execute_result",
          "data": {
            "text/plain": [
              "array([  0,   0,   0, ..., -24, -12,   0], dtype=int16)"
            ]
          },
          "metadata": {
            "tags": []
          },
          "execution_count": 165
        }
      ]
    },
    {
      "metadata": {
        "id": "offL5KWRWYGO",
        "colab_type": "code",
        "colab": {
          "autoexec": {
            "startup": false,
            "wait_interval": 0
          }
        }
      },
      "cell_type": "code",
      "source": [
        "Nkamu3=getNormalizedValues(kamu3)"
      ],
      "execution_count": 0,
      "outputs": []
    },
    {
      "metadata": {
        "id": "7sBOJJ86WbNB",
        "colab_type": "code",
        "colab": {
          "autoexec": {
            "startup": false,
            "wait_interval": 0
          },
          "output_extras": [
            {}
          ],
          "base_uri": "https://localhost:8080/",
          "height": 34
        },
        "outputId": "8e40752d-545d-47a0-d7f0-d6069e7af5dc",
        "executionInfo": {
          "status": "ok",
          "timestamp": 1521397414498,
          "user_tz": -330,
          "elapsed": 785,
          "user": {
            "displayName": "kamran shaik",
            "photoUrl": "//lh6.googleusercontent.com/-vkRdPE-RtuQ/AAAAAAAAAAI/AAAAAAAACE8/bWrheKF5bS4/s50-c-k-no/photo.jpg",
            "userId": "106931843714112403139"
          }
        }
      },
      "cell_type": "code",
      "source": [
        "getEuclideanDistance(Nkamu3,Nnani)"
      ],
      "execution_count": 0,
      "outputs": [
        {
          "output_type": "execute_result",
          "data": {
            "text/plain": [
              "2468227.323004375"
            ]
          },
          "metadata": {
            "tags": []
          },
          "execution_count": 169
        }
      ]
    },
    {
      "metadata": {
        "id": "mV5Sdq5YXSmy",
        "colab_type": "code",
        "colab": {
          "autoexec": {
            "startup": false,
            "wait_interval": 0
          },
          "output_extras": [
            {}
          ],
          "base_uri": "https://localhost:8080/",
          "height": 105
        },
        "outputId": "a52cbbe0-24e5-422e-a03b-05daca47dae0",
        "executionInfo": {
          "status": "ok",
          "timestamp": 1521397633561,
          "user_tz": -330,
          "elapsed": 697,
          "user": {
            "displayName": "kamran shaik",
            "photoUrl": "//lh6.googleusercontent.com/-vkRdPE-RtuQ/AAAAAAAAAAI/AAAAAAAACE8/bWrheKF5bS4/s50-c-k-no/photo.jpg",
            "userId": "106931843714112403139"
          }
        }
      },
      "cell_type": "code",
      "source": [
        "Plotvoicekamu=ReturnWav(\"Recording 22.wav\")"
      ],
      "execution_count": 0,
      "outputs": [
        {
          "output_type": "stream",
          "text": [
            "/usr/local/lib/python3.6/dist-packages/ipykernel_launcher.py:6: DeprecationWarning: Numeric-style type codes are deprecated and will result in an error in the future.\n",
            "  \n",
            "/usr/local/lib/python3.6/dist-packages/ipykernel_launcher.py:6: DeprecationWarning: The binary mode of fromstring is deprecated, as it behaves surprisingly on unicode inputs. Use frombuffer instead\n",
            "  \n"
          ],
          "name": "stderr"
        }
      ]
    },
    {
      "metadata": {
        "id": "2Ffy99pQXY62",
        "colab_type": "code",
        "colab": {
          "autoexec": {
            "startup": false,
            "wait_interval": 0
          }
        }
      },
      "cell_type": "code",
      "source": [
        "NPlotvoicekamu=getNormalizedValues(Plotvoicekamu)"
      ],
      "execution_count": 0,
      "outputs": []
    },
    {
      "metadata": {
        "id": "MbpSp16kXbgf",
        "colab_type": "code",
        "colab": {
          "autoexec": {
            "startup": false,
            "wait_interval": 0
          },
          "output_extras": [
            {}
          ],
          "base_uri": "https://localhost:8080/",
          "height": 34
        },
        "outputId": "b9f9b44f-cb54-42a1-eb0e-8824491245d0",
        "executionInfo": {
          "status": "ok",
          "timestamp": 1521397728839,
          "user_tz": -330,
          "elapsed": 809,
          "user": {
            "displayName": "kamran shaik",
            "photoUrl": "//lh6.googleusercontent.com/-vkRdPE-RtuQ/AAAAAAAAAAI/AAAAAAAACE8/bWrheKF5bS4/s50-c-k-no/photo.jpg",
            "userId": "106931843714112403139"
          }
        }
      },
      "cell_type": "code",
      "source": [
        "getEuclideanDistance(NPlotvoicekamu,Nnani)"
      ],
      "execution_count": 0,
      "outputs": [
        {
          "output_type": "execute_result",
          "data": {
            "text/plain": [
              "3105193.02463271"
            ]
          },
          "metadata": {
            "tags": []
          },
          "execution_count": 177
        }
      ]
    },
    {
      "metadata": {
        "id": "5MzjWpXyaBKb",
        "colab_type": "code",
        "colab": {
          "autoexec": {
            "startup": false,
            "wait_interval": 0
          },
          "output_extras": [
            {}
          ],
          "base_uri": "https://localhost:8080/",
          "height": 105
        },
        "outputId": "4998c6f6-56e3-4e69-afaf-602074f15f2d",
        "executionInfo": {
          "status": "ok",
          "timestamp": 1521398355094,
          "user_tz": -330,
          "elapsed": 841,
          "user": {
            "displayName": "kamran shaik",
            "photoUrl": "//lh6.googleusercontent.com/-vkRdPE-RtuQ/AAAAAAAAAAI/AAAAAAAACE8/bWrheKF5bS4/s50-c-k-no/photo.jpg",
            "userId": "106931843714112403139"
          }
        }
      },
      "cell_type": "code",
      "source": [
        "nani2=ReturnWav(\"Recording 23.wav\")\n",
        "Nnani2=getNormalizedValues(nani2)\n"
      ],
      "execution_count": 0,
      "outputs": [
        {
          "output_type": "stream",
          "text": [
            "/usr/local/lib/python3.6/dist-packages/ipykernel_launcher.py:6: DeprecationWarning: Numeric-style type codes are deprecated and will result in an error in the future.\n",
            "  \n",
            "/usr/local/lib/python3.6/dist-packages/ipykernel_launcher.py:6: DeprecationWarning: The binary mode of fromstring is deprecated, as it behaves surprisingly on unicode inputs. Use frombuffer instead\n",
            "  \n"
          ],
          "name": "stderr"
        }
      ]
    },
    {
      "metadata": {
        "id": "k-TXG3WZaNG_",
        "colab_type": "code",
        "colab": {
          "autoexec": {
            "startup": false,
            "wait_interval": 0
          }
        }
      },
      "cell_type": "code",
      "source": [
        ""
      ],
      "execution_count": 0,
      "outputs": []
    }
  ]
}